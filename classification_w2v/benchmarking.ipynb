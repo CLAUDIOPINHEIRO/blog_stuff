{
 "cells": [
  {
   "cell_type": "code",
   "execution_count": 11,
   "metadata": {
    "collapsed": false
   },
   "outputs": [],
   "source": [
    "import pandas as pd\n",
    "import numpy as np\n",
    "import gensim\n",
    "from gensim.models import doc2vec, word2vec\n",
    "from collections import Counter\n",
    "from sklearn.feature_extraction.text import CountVectorizer\n",
    "from sklearn.feature_extraction.text import TfidfVectorizer\n",
    "from sklearn.ensemble import RandomForestClassifier, ExtraTreesClassifier\n",
    "from sklearn.naive_bayes import BernoulliNB, MultinomialNB\n",
    "from sklearn.pipeline import Pipeline\n",
    "from sklearn.svm import SVC\n",
    "from sklearn import metrics\n",
    "from sklearn.cross_validation import StratifiedKFold, StratifiedShuffleSplit\n",
    "\n",
    "glove50 = '/Users/nadbordrozd/workspace/duedil_repos/experiments/similarity/data/glove.6B.50d.txt'\n",
    "TRAIN_PATH = \"r8-train-no-stop.txt\"\n",
    "TEST_PATH = \"r8-test-no-stop.txt\"\n",
    "\n",
    "# TRAIN_PATH = \"r52-train-no-stop.txt\"\n",
    "# TEST_PATH = \"r52-test-no-stop.txt\"\n",
    "\n",
    "# TRAIN_PATH = \"20ng-train-no-stop.txt\"\n",
    "# TEST_PATH = \"20ng-train-no-stop.txt\"\n",
    "WORD_VECTORS_PATH = \"glove50\"\n",
    "# WORD_VECTORS_PATH = \"glove.840B.300d.txt\""
   ]
  },
  {
   "cell_type": "code",
   "execution_count": 12,
   "metadata": {
    "collapsed": false
   },
   "outputs": [],
   "source": [
    "X_train, y_train = [], []\n",
    "with open(TRAIN_PATH, \"rb\") as infile:\n",
    "    for line in infile:\n",
    "        label, text = line.split(\"\\t\")\n",
    "        X_train.append(text.split())\n",
    "        y_train.append(label)\n",
    "\n",
    "\n",
    "X_test, y_test = [], []\n",
    "with open(TEST_PATH, \"rb\") as infile:\n",
    "    for line in infile:\n",
    "        label, text = line.split(\"\\t\")\n",
    "        X_test.append(text.split())\n",
    "        y_test.append(label)\n",
    "\n",
    "X = np.array(X_train + X_test)\n",
    "y = np.array(y_train + y_test)\n",
    "\n",
    "X_train = np.array(X_train)\n",
    "y_train = np.array(y_train)\n",
    "y_train = np.array(y_train)\n",
    "y_test = np.array(y_test)"
   ]
  },
  {
   "cell_type": "code",
   "execution_count": 13,
   "metadata": {
    "collapsed": false
   },
   "outputs": [],
   "source": [
    "# pretrained word vectors\n",
    "w2v_pre = {}\n",
    "with open(WORD_VECTORS_PATH, \"rb\") as infile:\n",
    "    for line in infile:\n",
    "        parts = line.split()\n",
    "        word = parts[0]\n",
    "        nums = map(float, parts[1:])\n",
    "        w2v_pre[word] = np.array(nums)"
   ]
  },
  {
   "cell_type": "code",
   "execution_count": 14,
   "metadata": {
    "collapsed": false
   },
   "outputs": [],
   "source": [
    "model = gensim.models.Word2Vec(X, size=52)\n",
    "w2v50 = dict(zip(model.index2word, model.syn0))\n",
    "\n",
    "model = gensim.models.Word2Vec(X, size=100)\n",
    "w2v100 = dict(zip(model.index2word, model.syn0))\n",
    "\n",
    "model = gensim.models.Word2Vec(X, size=200)\n",
    "w2v200 = dict(zip(model.index2word, model.syn0))"
   ]
  },
  {
   "cell_type": "code",
   "execution_count": 15,
   "metadata": {
    "collapsed": false
   },
   "outputs": [],
   "source": [
    "def benchmark(clf, X, y, test_size=0.5, splits=5):\n",
    "    f1 = []\n",
    "    acc = []\n",
    "    for train_index, test_index in StratifiedShuffleSplit(\n",
    "            y, splits, test_size=test_size, random_state=0):\n",
    "        X_train = X[train_index]\n",
    "        y_train = y[train_index]\n",
    "        X_test = X[test_index]\n",
    "        y_test = y[test_index]\n",
    "        clf.fit(X_train, y_train)\n",
    "        pred = clf.predict(X_test)\n",
    "        f1_micro = metrics.f1_score(y_test, pred, average='micro')\n",
    "        f1.append(f1_micro)\n",
    "        accuracy = (pred == y_test).mean()\n",
    "        acc.append(accuracy)\n",
    "    assert abs(np.mean(f1) - np.mean(acc)) < 0.001\n",
    "    return np.mean(f1)"
   ]
  },
  {
   "cell_type": "code",
   "execution_count": 16,
   "metadata": {
    "collapsed": true
   },
   "outputs": [],
   "source": [
    "class MeanVectorizer(object):\n",
    "    def __init__(self, w2v):\n",
    "        self.w2v = w2v\n",
    "    \n",
    "    def fit(self, X, y):\n",
    "        return self\n",
    "    \n",
    "    def transform(self, X):\n",
    "        return np.array([\n",
    "            np.mean([self.w2v[t] for t in x if t in self.w2v], axis=0)\n",
    "            for x in X\n",
    "        ])"
   ]
  },
  {
   "cell_type": "code",
   "execution_count": 17,
   "metadata": {
    "collapsed": false
   },
   "outputs": [],
   "source": [
    "extra_pretrained = Pipeline([\n",
    "        (\"pretrained w2v mean vectorizer\", MeanVectorizer(w2v_pre)),\n",
    "        (\"extra trees\", ExtraTreesClassifier(n_estimators=300))])\n",
    "\n",
    "extra50 = Pipeline([\n",
    "        (\"w2v50d mean vectorizer\", MeanVectorizer(w2v50)),\n",
    "        (\"extra trees\", ExtraTreesClassifier(n_estimators=300))])\n",
    "\n",
    "extra100 = Pipeline([\n",
    "        (\"w2v100d mean vectorizer\", MeanVectorizer(w2v100)),\n",
    "        (\"extra trees\", ExtraTreesClassifier(n_estimators=300))])\n",
    "\n",
    "extra200 = Pipeline([\n",
    "        (\"w2v200d mean vectorizer\", MeanVectorizer(w2v200)),\n",
    "        (\"extra trees\", ExtraTreesClassifier(n_estimators=300))])\n",
    "\n",
    "mult_nb = Pipeline([(\"count_vectorizer\", CountVectorizer(analyzer=lambda x: x)), (\"multinomial nb\", MultinomialNB())])\n",
    "bern_nb = Pipeline([(\"count_vectorizer\", CountVectorizer(analyzer=lambda x: x)), (\"bernoulli nb\", BernoulliNB())])\n",
    "svc = Pipeline([(\"count_vectorizer\", CountVectorizer(analyzer=lambda x: x)), (\"svc\", SVC())])\n",
    "\n",
    "\n",
    "mult_nb_tfidf = Pipeline([(\"tfidf_vectorizer\", TfidfVectorizer(analyzer=lambda x: x)), (\"multinomial nb\", MultinomialNB())])\n",
    "bern_nb_tfidf = Pipeline([(\"tfidf_vectorizer\", TfidfVectorizer(analyzer=lambda x: x)), (\"bernoulli nb\", BernoulliNB())])\n",
    "\n",
    "svc_tfidf = Pipeline([(\"tfidf_vectorizer\", TfidfVectorizer(analyzer=lambda x: x)), (\"svc\", SVC())])\n",
    "\n",
    "names = [\"mult_nb\", \"mult_nb_tfidf\", \"bern_nb\", \"bern_neb_tfidf\", \n",
    "         \"extra_pre\", \"extra50\", \"extra100\", \"extra200\"]\n",
    "models = [mult_nb, mult_nb_tfidf, bern_nb, bern_nb_tfidf,\n",
    "              extra_pretrained, extra50, extra100, extra200]"
   ]
  },
  {
   "cell_type": "code",
   "execution_count": 18,
   "metadata": {
    "collapsed": false
   },
   "outputs": [],
   "source": [
    "rows = [\n",
    "    names,\n",
    "    [\"0.2\"] + [benchmark(model, X, y, test_size=0.2) for model in models],\n",
    "    [\"0.5\"] + [benchmark(model, X, y, test_size=0.5) for model in models],\n",
    "    [\"0.8\"] + [benchmark(model, X, y, test_size=0.8) for model in models],\n",
    "    [\"0.9\"] + [benchmark(model, X, y, test_size=0.9) for model in models],\n",
    "    [\"0.95\"] + [benchmark(model, X, y, test_size=0.95) for model in models],\n",
    "    [\"0.99\"] + [benchmark(model, X, y, test_size=0.99) for model in models],\n",
    "]"
   ]
  },
  {
   "cell_type": "code",
   "execution_count": 19,
   "metadata": {
    "collapsed": false
   },
   "outputs": [
    {
     "name": "stdout",
     "output_type": "stream",
     "text": [
      "7674\n",
      "        mult_nb    mult_nb_tfidf    bern_nb    bern_neb_tfidf    extra_pre    extra50    extra100    extra200\n",
      "----  ---------  ---------------  ---------  ----------------  -----------  ---------  ----------  ----------\n",
      "0.20       0.95             0.87       0.80              0.80         0.93       0.96        0.96        0.96\n",
      "0.50       0.95             0.85       0.79              0.79         0.92       0.95        0.95        0.95\n",
      "0.80       0.94             0.80       0.75              0.75         0.91       0.94        0.95        0.95\n",
      "0.90       0.93             0.76       0.72              0.72         0.89       0.94        0.94        0.94\n",
      "0.95       0.92             0.72       0.66              0.66         0.88       0.94        0.94        0.94\n",
      "0.99       0.86             0.58       0.58              0.58         0.82       0.89        0.89        0.90\n"
     ]
    }
   ],
   "source": [
    "import tabulate\n",
    "print len(X) \n",
    "print tabulate.tabulate(rows, headers=\"firstrow\", floatfmt=\".2f\")"
   ]
  },
  {
   "cell_type": "code",
   "execution_count": 57,
   "metadata": {
    "collapsed": false
   },
   "outputs": [],
   "source": [
    "r99 = [\"0.99\"] + [benchmark(model, X, y, test_size=0.99) for model in models] "
   ]
  },
  {
   "cell_type": "code",
   "execution_count": 58,
   "metadata": {
    "collapsed": false
   },
   "outputs": [
    {
     "data": {
      "text/plain": [
       "['0.99',\n",
       " 0.41273816978262817,\n",
       " 0.58859468646569457,\n",
       " 0.35317112442973431,\n",
       " 0.35317112442973431,\n",
       " 0.49194024510242418,\n",
       " 0.59604615797477423,\n",
       " 0.62545844887735935,\n",
       " 0.62939440021468829]"
      ]
     },
     "execution_count": 58,
     "metadata": {},
     "output_type": "execute_result"
    }
   ],
   "source": [
    "r99"
   ]
  },
  {
   "cell_type": "code",
   "execution_count": 10,
   "metadata": {
    "collapsed": false
   },
   "outputs": [
    {
     "data": {
      "text/plain": [
       "22586"
      ]
     },
     "execution_count": 10,
     "metadata": {},
     "output_type": "execute_result"
    }
   ],
   "source": [
    "len(X)"
   ]
  },
  {
   "cell_type": "code",
   "execution_count": null,
   "metadata": {
    "collapsed": true
   },
   "outputs": [],
   "source": []
  },
  {
   "cell_type": "code",
   "execution_count": 59,
   "metadata": {
    "collapsed": false
   },
   "outputs": [
    {
     "data": {
      "text/plain": [
       "<module 'multi_multi_kernel_nb' from 'multi_multi_kernel_nb.pyc'>"
      ]
     },
     "execution_count": 59,
     "metadata": {},
     "output_type": "execute_result"
    }
   ],
   "source": [
    "import multi_multi_nb as mm\n",
    "reload(mm)\n",
    "\n",
    "import multi_multi_kernel_nb as mmk\n",
    "reload(mmk)"
   ]
  },
  {
   "cell_type": "code",
   "execution_count": null,
   "metadata": {
    "collapsed": true
   },
   "outputs": [],
   "source": []
  },
  {
   "cell_type": "code",
   "execution_count": null,
   "metadata": {
    "collapsed": true
   },
   "outputs": [],
   "source": []
  },
  {
   "cell_type": "code",
   "execution_count": 60,
   "metadata": {
    "collapsed": false
   },
   "outputs": [
    {
     "name": "stdout",
     "output_type": "stream",
     "text": [
      "CPU times: user 4min 33s, sys: 743 ms, total: 4min 34s\n",
      "Wall time: 4min 34s\n"
     ]
    },
    {
     "data": {
      "text/plain": [
       "0.58750335450398072"
      ]
     },
     "execution_count": 60,
     "metadata": {},
     "output_type": "execute_result"
    }
   ],
   "source": [
    "%%time\n",
    "benchmark(mm.MMGNB(w2v_pre, 0.1, 0.1), X, y, test_size=0.99)"
   ]
  },
  {
   "cell_type": "code",
   "execution_count": 61,
   "metadata": {
    "collapsed": false
   },
   "outputs": [
    {
     "name": "stdout",
     "output_type": "stream",
     "text": [
      "CPU times: user 6min 57s, sys: 1.97 s, total: 6min 58s\n",
      "Wall time: 6min 59s\n"
     ]
    },
    {
     "data": {
      "text/plain": [
       "0.072054745504964671"
      ]
     },
     "execution_count": 61,
     "metadata": {},
     "output_type": "execute_result"
    }
   ],
   "source": [
    "%%time\n",
    "benchmark(mmk.MMGKNB(w2v_pre, 0.1, 0.1), X, y, test_size=0.99, splits=1)"
   ]
  },
  {
   "cell_type": "code",
   "execution_count": null,
   "metadata": {
    "collapsed": false
   },
   "outputs": [],
   "source": [
    "%%time\n",
    "benchmark(mmk.Better(w2v_pre, 0.1, 0.1), X, y, test_size=0.3, splits=1)"
   ]
  },
  {
   "cell_type": "code",
   "execution_count": null,
   "metadata": {
    "collapsed": true
   },
   "outputs": [],
   "source": [
    "benchmark(mmk.(w2v_pre, 0.1, 0.1), X, y, test_size=0.3, splits=1)"
   ]
  },
  {
   "cell_type": "code",
   "execution_count": 189,
   "metadata": {
    "collapsed": false
   },
   "outputs": [
    {
     "name": "stdout",
     "output_type": "stream",
     "text": [
      "0.001 0.494746459571\n",
      "0.01 0.494746459571\n",
      "0.05 0.00456829602558\n",
      "0.1 0.868889904066\n"
     ]
    }
   ],
   "source": [
    "for alpha in [0.001, 0.01, 0.05, 0.1]:\n",
    "    print alpha, benchmark(mm.MMGNB(w2v, alpha))\n"
   ]
  },
  {
   "cell_type": "code",
   "execution_count": 190,
   "metadata": {
    "collapsed": false
   },
   "outputs": [
    {
     "data": {
      "text/plain": [
       "0.76838739150296942"
      ]
     },
     "execution_count": 190,
     "metadata": {},
     "output_type": "execute_result"
    }
   ],
   "source": [
    "benchmark(mm.MMGNB(w2v, 0.2))"
   ]
  },
  {
   "cell_type": "code",
   "execution_count": 191,
   "metadata": {
    "collapsed": false
   },
   "outputs": [
    {
     "name": "stdout",
     "output_type": "stream",
     "text": [
      "0.001 0.881224303335\n",
      "0.01 0.895386021014\n",
      "0.05 0.906349931476\n",
      "0.1 0.909090909091\n",
      "0.2 0.905893101873\n",
      "0.5 0.903152124258\n",
      "1 0.887619917771\n",
      "2 0.871174052079\n",
      "5 0.845134764733\n"
     ]
    }
   ],
   "source": [
    "for alpha in [0.001, 0.01, 0.05, 0.1, 0.2, 0.5, 1, 2, 5]:\n",
    "    clf = Pipeline([(\"count_vectorizer\", CountVectorizer(analyzer=lambda x: x)), \n",
    "                    (\"multinomial nb\", MultinomialNB(alpha=alpha))])\n",
    "    print alpha, benchmark(clf)\n"
   ]
  },
  {
   "cell_type": "code",
   "execution_count": 47,
   "metadata": {
    "collapsed": false
   },
   "outputs": [
    {
     "data": {
      "text/plain": [
       "Counter({'earn': 464, 'acq': 307, 'crude': 75, 'interest': 44, 'ship': 38, 'trade': 35, 'money-fx': 32, 'grain': 5})"
      ]
     },
     "execution_count": 47,
     "metadata": {},
     "output_type": "execute_result"
    }
   ],
   "source": [
    "Counter(y_train[1000:2000])"
   ]
  },
  {
   "cell_type": "code",
   "execution_count": 84,
   "metadata": {
    "collapsed": false
   },
   "outputs": [
    {
     "data": {
      "text/plain": [
       "Counter({'earn': 141, 'acq': 67, 'trade': 13, 'crude': 13, 'grain': 5, 'money-fx': 4, 'interest': 4, 'ship': 3})"
      ]
     },
     "execution_count": 84,
     "metadata": {},
     "output_type": "execute_result"
    }
   ],
   "source": [
    "Counter(y_train[:250])"
   ]
  },
  {
   "cell_type": "code",
   "execution_count": 9,
   "metadata": {
    "collapsed": false
   },
   "outputs": [
    {
     "data": {
      "text/plain": [
       "<module 'multi_multi_kernel_nb' from 'multi_multi_kernel_nb.pyc'>"
      ]
     },
     "execution_count": 9,
     "metadata": {},
     "output_type": "execute_result"
    }
   ],
   "source": [
    "import multi_multi_kernel_nb as mmk\n",
    "reload(mmk)"
   ]
  },
  {
   "cell_type": "code",
   "execution_count": 1,
   "metadata": {
    "collapsed": false
   },
   "outputs": [
    {
     "ename": "NameError",
     "evalue": "name 'benchmark' is not defined",
     "output_type": "error",
     "traceback": [
      "\u001b[0;31m---------------------------------------------------------------------------\u001b[0m",
      "\u001b[0;31mNameError\u001b[0m                                 Traceback (most recent call last)",
      "\u001b[0;32m<ipython-input-1-c5677fc44d63>\u001b[0m in \u001b[0;36m<module>\u001b[0;34m()\u001b[0m\n\u001b[0;32m----> 1\u001b[0;31m \u001b[0mget_ipython\u001b[0m\u001b[0;34m(\u001b[0m\u001b[0;34m)\u001b[0m\u001b[0;34m.\u001b[0m\u001b[0mrun_cell_magic\u001b[0m\u001b[0;34m(\u001b[0m\u001b[0;34mu'time'\u001b[0m\u001b[0;34m,\u001b[0m \u001b[0;34mu''\u001b[0m\u001b[0;34m,\u001b[0m \u001b[0;34mu'benchmark(mmk.MMGKNB(w2v_pre, sigma=0.1))'\u001b[0m\u001b[0;34m)\u001b[0m\u001b[0;34m\u001b[0m\u001b[0m\n\u001b[0m",
      "\u001b[0;32m/Library/Python/2.7/site-packages/IPython/core/interactiveshell.pyc\u001b[0m in \u001b[0;36mrun_cell_magic\u001b[0;34m(self, magic_name, line, cell)\u001b[0m\n\u001b[1;32m   2291\u001b[0m             \u001b[0mmagic_arg_s\u001b[0m \u001b[0;34m=\u001b[0m \u001b[0mself\u001b[0m\u001b[0;34m.\u001b[0m\u001b[0mvar_expand\u001b[0m\u001b[0;34m(\u001b[0m\u001b[0mline\u001b[0m\u001b[0;34m,\u001b[0m \u001b[0mstack_depth\u001b[0m\u001b[0;34m)\u001b[0m\u001b[0;34m\u001b[0m\u001b[0m\n\u001b[1;32m   2292\u001b[0m             \u001b[0;32mwith\u001b[0m \u001b[0mself\u001b[0m\u001b[0;34m.\u001b[0m\u001b[0mbuiltin_trap\u001b[0m\u001b[0;34m:\u001b[0m\u001b[0;34m\u001b[0m\u001b[0m\n\u001b[0;32m-> 2293\u001b[0;31m                 \u001b[0mresult\u001b[0m \u001b[0;34m=\u001b[0m \u001b[0mfn\u001b[0m\u001b[0;34m(\u001b[0m\u001b[0mmagic_arg_s\u001b[0m\u001b[0;34m,\u001b[0m \u001b[0mcell\u001b[0m\u001b[0;34m)\u001b[0m\u001b[0;34m\u001b[0m\u001b[0m\n\u001b[0m\u001b[1;32m   2294\u001b[0m             \u001b[0;32mreturn\u001b[0m \u001b[0mresult\u001b[0m\u001b[0;34m\u001b[0m\u001b[0m\n\u001b[1;32m   2295\u001b[0m \u001b[0;34m\u001b[0m\u001b[0m\n",
      "\u001b[0;32m/Library/Python/2.7/site-packages/IPython/core/magics/execution.pyc\u001b[0m in \u001b[0;36mtime\u001b[0;34m(self, line, cell, local_ns)\u001b[0m\n",
      "\u001b[0;32m/Library/Python/2.7/site-packages/IPython/core/magic.pyc\u001b[0m in \u001b[0;36m<lambda>\u001b[0;34m(f, *a, **k)\u001b[0m\n\u001b[1;32m    191\u001b[0m     \u001b[0;31m# but it's overkill for just that one bit of state.\u001b[0m\u001b[0;34m\u001b[0m\u001b[0;34m\u001b[0m\u001b[0m\n\u001b[1;32m    192\u001b[0m     \u001b[0;32mdef\u001b[0m \u001b[0mmagic_deco\u001b[0m\u001b[0;34m(\u001b[0m\u001b[0marg\u001b[0m\u001b[0;34m)\u001b[0m\u001b[0;34m:\u001b[0m\u001b[0;34m\u001b[0m\u001b[0m\n\u001b[0;32m--> 193\u001b[0;31m         \u001b[0mcall\u001b[0m \u001b[0;34m=\u001b[0m \u001b[0;32mlambda\u001b[0m \u001b[0mf\u001b[0m\u001b[0;34m,\u001b[0m \u001b[0;34m*\u001b[0m\u001b[0ma\u001b[0m\u001b[0;34m,\u001b[0m \u001b[0;34m**\u001b[0m\u001b[0mk\u001b[0m\u001b[0;34m:\u001b[0m \u001b[0mf\u001b[0m\u001b[0;34m(\u001b[0m\u001b[0;34m*\u001b[0m\u001b[0ma\u001b[0m\u001b[0;34m,\u001b[0m \u001b[0;34m**\u001b[0m\u001b[0mk\u001b[0m\u001b[0;34m)\u001b[0m\u001b[0;34m\u001b[0m\u001b[0m\n\u001b[0m\u001b[1;32m    194\u001b[0m \u001b[0;34m\u001b[0m\u001b[0m\n\u001b[1;32m    195\u001b[0m         \u001b[0;32mif\u001b[0m \u001b[0mcallable\u001b[0m\u001b[0;34m(\u001b[0m\u001b[0marg\u001b[0m\u001b[0;34m)\u001b[0m\u001b[0;34m:\u001b[0m\u001b[0;34m\u001b[0m\u001b[0m\n",
      "\u001b[0;32m/Library/Python/2.7/site-packages/IPython/core/magics/execution.pyc\u001b[0m in \u001b[0;36mtime\u001b[0;34m(self, line, cell, local_ns)\u001b[0m\n\u001b[1;32m   1161\u001b[0m         \u001b[0;32mif\u001b[0m \u001b[0mmode\u001b[0m\u001b[0;34m==\u001b[0m\u001b[0;34m'eval'\u001b[0m\u001b[0;34m:\u001b[0m\u001b[0;34m\u001b[0m\u001b[0m\n\u001b[1;32m   1162\u001b[0m             \u001b[0mst\u001b[0m \u001b[0;34m=\u001b[0m \u001b[0mclock2\u001b[0m\u001b[0;34m(\u001b[0m\u001b[0;34m)\u001b[0m\u001b[0;34m\u001b[0m\u001b[0m\n\u001b[0;32m-> 1163\u001b[0;31m             \u001b[0mout\u001b[0m \u001b[0;34m=\u001b[0m \u001b[0meval\u001b[0m\u001b[0;34m(\u001b[0m\u001b[0mcode\u001b[0m\u001b[0;34m,\u001b[0m \u001b[0mglob\u001b[0m\u001b[0;34m,\u001b[0m \u001b[0mlocal_ns\u001b[0m\u001b[0;34m)\u001b[0m\u001b[0;34m\u001b[0m\u001b[0m\n\u001b[0m\u001b[1;32m   1164\u001b[0m             \u001b[0mend\u001b[0m \u001b[0;34m=\u001b[0m \u001b[0mclock2\u001b[0m\u001b[0;34m(\u001b[0m\u001b[0;34m)\u001b[0m\u001b[0;34m\u001b[0m\u001b[0m\n\u001b[1;32m   1165\u001b[0m         \u001b[0;32melse\u001b[0m\u001b[0;34m:\u001b[0m\u001b[0;34m\u001b[0m\u001b[0m\n",
      "\u001b[0;32m<timed eval>\u001b[0m in \u001b[0;36m<module>\u001b[0;34m()\u001b[0m\n",
      "\u001b[0;31mNameError\u001b[0m: name 'benchmark' is not defined"
     ]
    }
   ],
   "source": [
    "%%time\n",
    "benchmark(mmk.MMGKNB(w2v_pre, sigma=0.1))"
   ]
  },
  {
   "cell_type": "code",
   "execution_count": 145,
   "metadata": {
    "collapsed": false
   },
   "outputs": [
    {
     "name": "stdout",
     "output_type": "stream",
     "text": [
      "0.2 0.808588396528\n",
      "0.5 0.857012334399\n",
      "1 0.861123800822\n",
      "2 0.68935587026\n",
      "5 0.494746459571\n",
      "10 0.494746459571\n",
      "20 0.494746459571\n"
     ]
    }
   ],
   "source": [
    "for sigma in [0.2, 0.5, 1, 2, 5, 10, 20]:\n",
    "    clf = mmk.MMGKNB(w2v, sigma=sigma)\n",
    "    print sigma, benchmark(clf)"
   ]
  },
  {
   "cell_type": "code",
   "execution_count": 175,
   "metadata": {
    "collapsed": false
   },
   "outputs": [
    {
     "data": {
      "text/plain": [
       "10570"
      ]
     },
     "execution_count": 175,
     "metadata": {},
     "output_type": "execute_result"
    }
   ],
   "source": [
    "len(w2v)"
   ]
  },
  {
   "cell_type": "code",
   "execution_count": 11,
   "metadata": {
    "collapsed": false
   },
   "outputs": [],
   "source": [
    "w2v = {}\n",
    "with open(WORD_VECTORS_PATH, \"rb\") as infile:\n",
    "    for line in infile:\n",
    "        parts = line.split()\n",
    "        word = parts[0]\n",
    "        nums = map(float, parts[1:])\n",
    "        w2v[word] = np.array(nums)"
   ]
  },
  {
   "cell_type": "code",
   "execution_count": 15,
   "metadata": {
    "collapsed": false
   },
   "outputs": [
    {
     "name": "stdout",
     "output_type": "stream",
     "text": [
      "1.0\n",
      "1.0\n"
     ]
    }
   ],
   "source": [
    "X_train1 = [['cat', 'dog', 'hamster'],\n",
    "            ['paris', 'berlin', 'london']]\n",
    "y_train1 = ['pets',\n",
    "           'capitals']\n",
    "X_test1 = [['parrot', 'goldfish'],\n",
    "           ['london', 'madrid']]\n",
    "y_test1 = np.array(['pets', 'capitals'])\n",
    "print benchmark(mm.MMGNB(w2v, 0.1, 0.1), X_train1, y_train1, X_test1, y_test1)\n",
    "print benchmark(mmk.MMGKNB(w2v), X_train1, y_train1, X_test1, y_test1)"
   ]
  },
  {
   "cell_type": "code",
   "execution_count": 27,
   "metadata": {
    "collapsed": false
   },
   "outputs": [
    {
     "data": {
      "text/plain": [
       "13.75019307"
      ]
     },
     "execution_count": 27,
     "metadata": {},
     "output_type": "execute_result"
    }
   ],
   "source": [
    "np.abs(w2v['paris'] - w2v['france'] - w2v['berlin'] + w2v['germany']).sum()"
   ]
  },
  {
   "cell_type": "code",
   "execution_count": 32,
   "metadata": {
    "collapsed": true
   },
   "outputs": [],
   "source": [
    "clf = mm.MMGNB(w2v, 0.1 ,0.1)"
   ]
  },
  {
   "cell_type": "code",
   "execution_count": 37,
   "metadata": {
    "collapsed": true
   },
   "outputs": [],
   "source": [
    "clf.fit(X_train1, y_train1)"
   ]
  },
  {
   "cell_type": "code",
   "execution_count": 41,
   "metadata": {
    "collapsed": false
   },
   "outputs": [
    {
     "data": {
      "text/plain": [
       "'pets'"
      ]
     },
     "execution_count": 41,
     "metadata": {},
     "output_type": "execute_result"
    }
   ],
   "source": [
    "clf.predict_one(['cow'])"
   ]
  },
  {
   "cell_type": "code",
   "execution_count": 45,
   "metadata": {
    "collapsed": false
   },
   "outputs": [],
   "source": [
    "model = gensim.models.Word2Vec(X_train + X_test)\n",
    "w2valt = dict(zip(model.index2word, model.syn0))"
   ]
  },
  {
   "cell_type": "code",
   "execution_count": 46,
   "metadata": {
    "collapsed": false
   },
   "outputs": [
    {
     "data": {
      "text/plain": [
       "7367"
      ]
     },
     "execution_count": 46,
     "metadata": {},
     "output_type": "execute_result"
    }
   ],
   "source": [
    "len(model.syn0)"
   ]
  },
  {
   "cell_type": "code",
   "execution_count": 47,
   "metadata": {
    "collapsed": false
   },
   "outputs": [
    {
     "data": {
      "text/plain": [
       "7367"
      ]
     },
     "execution_count": 47,
     "metadata": {},
     "output_type": "execute_result"
    }
   ],
   "source": [
    "len(model.index2word)"
   ]
  },
  {
   "cell_type": "code",
   "execution_count": 48,
   "metadata": {
    "collapsed": false
   },
   "outputs": [],
   "source": [
    "w2valt = dict(zip(model.index2word, model.syn0))"
   ]
  },
  {
   "cell_type": "code",
   "execution_count": 41,
   "metadata": {
    "collapsed": true
   },
   "outputs": [],
   "source": [
    "from gensim.models.doc2vec import TaggedDocument"
   ]
  },
  {
   "cell_type": "code",
   "execution_count": 42,
   "metadata": {
    "collapsed": false
   },
   "outputs": [],
   "source": [
    "all_docs = [TaggedDocument(words=x, tags=[\"document\" + str(i)]) for i, x in enumerate(X)]"
   ]
  },
  {
   "cell_type": "code",
   "execution_count": 43,
   "metadata": {
    "collapsed": false
   },
   "outputs": [],
   "source": [
    "model = gensim.models.Doc2Vec(all_docs, size=100, window=3)"
   ]
  },
  {
   "cell_type": "code",
   "execution_count": 44,
   "metadata": {
    "collapsed": false
   },
   "outputs": [
    {
     "data": {
      "text/plain": [
       "9100"
      ]
     },
     "execution_count": 44,
     "metadata": {},
     "output_type": "execute_result"
    }
   ],
   "source": [
    "len(model.docvecs)"
   ]
  },
  {
   "cell_type": "code",
   "execution_count": null,
   "metadata": {
    "collapsed": false
   },
   "outputs": [],
   "source": []
  },
  {
   "cell_type": "code",
   "execution_count": 142,
   "metadata": {
    "collapsed": false
   },
   "outputs": [],
   "source": [
    "docvecs = model.docvecs"
   ]
  },
  {
   "cell_type": "code",
   "execution_count": 45,
   "metadata": {
    "collapsed": false
   },
   "outputs": [],
   "source": [
    "X_vecs = []\n",
    "for i, v in enumerate(model.docvecs):\n",
    "    X_vecs.append(v)\n",
    "X_vecs = np.array(X_vecs)"
   ]
  },
  {
   "cell_type": "code",
   "execution_count": 144,
   "metadata": {
    "collapsed": false
   },
   "outputs": [
    {
     "data": {
      "text/plain": [
       "5485"
      ]
     },
     "execution_count": 144,
     "metadata": {},
     "output_type": "execute_result"
    }
   ],
   "source": [
    "len(X_train)"
   ]
  },
  {
   "cell_type": "code",
   "execution_count": 46,
   "metadata": {
    "collapsed": false
   },
   "outputs": [
    {
     "data": {
      "text/plain": [
       "0.60558732952045757"
      ]
     },
     "execution_count": 46,
     "metadata": {},
     "output_type": "execute_result"
    }
   ],
   "source": [
    "benchmark(RandomForestClassifier(n_estimators=200), X_vecs, y)"
   ]
  },
  {
   "cell_type": "code",
   "execution_count": 115,
   "metadata": {
    "collapsed": false
   },
   "outputs": [
    {
     "data": {
      "text/plain": [
       "0.49474645957058017"
      ]
     },
     "execution_count": 115,
     "metadata": {},
     "output_type": "execute_result"
    }
   ],
   "source": [
    "benchmark_vec(SVC())"
   ]
  },
  {
   "cell_type": "code",
   "execution_count": 118,
   "metadata": {
    "collapsed": false
   },
   "outputs": [
    {
     "data": {
      "text/plain": [
       "array([[ -1.60047424e-03,  -1.50309177e-03,   1.91274623e-03, ...,\n",
       "          3.45259253e-03,  -1.40266877e-03,  -2.33687880e-03],\n",
       "       [ -5.00012720e-05,  -2.76605692e-03,  -3.37624503e-03, ...,\n",
       "          4.67358250e-03,   9.84009821e-04,   3.48499510e-03],\n",
       "       [  3.55318451e-04,  -4.34295693e-03,  -2.04310846e-03, ...,\n",
       "         -2.74742721e-03,  -9.80215496e-04,  -4.21651546e-03],\n",
       "       ..., \n",
       "       [ -9.97600495e-04,  -4.70627612e-03,  -2.01077177e-03, ...,\n",
       "         -1.73579657e-03,  -2.84776674e-03,  -3.40009597e-03],\n",
       "       [  3.12148756e-03,  -4.59358888e-03,  -2.19333800e-03, ...,\n",
       "          6.43378589e-05,  -4.52710222e-03,   3.19797290e-03],\n",
       "       [ -4.50575352e-03,  -3.90426372e-03,  -2.71564000e-03, ...,\n",
       "          4.53540031e-03,  -4.40954603e-03,  -4.32068482e-03]], dtype=float32)"
      ]
     },
     "execution_count": 118,
     "metadata": {},
     "output_type": "execute_result"
    }
   ],
   "source": [
    "docvecs.doctag_syn0"
   ]
  },
  {
   "cell_type": "code",
   "execution_count": 124,
   "metadata": {
    "collapsed": false
   },
   "outputs": [
    {
     "data": {
      "text/plain": [
       "4444"
      ]
     },
     "execution_count": 124,
     "metadata": {},
     "output_type": "execute_result"
    }
   ],
   "source": [
    "docvecs.index_to_doctag(4444)"
   ]
  },
  {
   "cell_type": "code",
   "execution_count": 102,
   "metadata": {
    "collapsed": true
   },
   "outputs": [],
   "source": [
    "import tabulate"
   ]
  },
  {
   "cell_type": "code",
   "execution_count": 139,
   "metadata": {
    "collapsed": true
   },
   "outputs": [],
   "source": [
    "tabulate.tabulate?"
   ]
  },
  {
   "cell_type": "code",
   "execution_count": null,
   "metadata": {
    "collapsed": true
   },
   "outputs": [],
   "source": []
  }
 ],
 "metadata": {
  "kernelspec": {
   "display_name": "Python 2",
   "language": "python",
   "name": "python2"
  },
  "language_info": {
   "codemirror_mode": {
    "name": "ipython",
    "version": 2
   },
   "file_extension": ".py",
   "mimetype": "text/x-python",
   "name": "python",
   "nbconvert_exporter": "python",
   "pygments_lexer": "ipython2",
   "version": "2.7.8"
  }
 },
 "nbformat": 4,
 "nbformat_minor": 0
}
