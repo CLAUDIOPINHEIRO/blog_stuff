{
 "cells": [
  {
   "cell_type": "code",
   "execution_count": 11,
   "metadata": {
    "collapsed": false
   },
   "outputs": [
    {
     "data": {
      "text/plain": [
       "u'/home/nadbor/workspace/blog_stuff/austen_or_python/notebooks'"
      ]
     },
     "execution_count": 11,
     "metadata": {},
     "output_type": "execute_result"
    }
   ],
   "source": []
  },
  {
   "cell_type": "code",
   "execution_count": 1,
   "metadata": {
    "collapsed": false
   },
   "outputs": [
    {
     "data": {
      "text/html": [
       "<span style=\"background-color:rgb(181, 18, 24); color:black;\">p</span><span style=\"background-color:rgb(202, 23, 28); color:black;\">o</span><span style=\"background-color:rgb(132, 7, 16); color:black;\">l</span><span style=\"background-color:rgb(252, 149, 118); color:black;\">s</span><span style=\"background-color:rgb(253, 193, 168); color:black;\">k</span><span style=\"background-color:rgb(202, 23, 28); color:black;\">a</span><span style=\"background-color:rgb(253, 196, 173); color:black;\"> </span><span style=\"background-color:rgb(252, 153, 122); color:black;\">k</span><span style=\"background-color:rgb(253, 204, 184); color:black;\">r</span><span style=\"background-color:rgb(255, 234, 224); color:black;\">o</span><span style=\"background-color:rgb(252, 114, 82); color:black;\">w</span><span style=\"background-color:rgb(221, 40, 36); color:black;\">a</span><span style=\"background-color:rgb(204, 24, 29); color:black;\"> </span><br><span style=\"background-color:rgb(252, 148, 116); color:black;\"> </span><span style=\"background-color:rgb(243, 71, 52); color:black;\">s</span><span style=\"background-color:rgb(254, 210, 192); color:black;\">p</span><span style=\"background-color:rgb(252, 133, 101); color:black;\">a</span><span style=\"background-color:rgb(200, 23, 28); color:black;\">l</span><span style=\"background-color:rgb(117, 3, 14); color:black;\">i</span><span style=\"background-color:rgb(194, 21, 27); color:black;\">n</span><span style=\"background-color:rgb(199, 23, 28); color:black;\">o</span><span style=\"background-color:rgb(252, 178, 150); color:black;\">w</span><span style=\"background-color:rgb(252, 127, 95); color:black;\">a</span>"
      ],
      "text/plain": [
       "<__main__.ObjectToDisplay at 0x7f1f9b07f390>"
      ]
     },
     "execution_count": 1,
     "metadata": {},
     "output_type": "execute_result"
    }
   ],
   "source": [
    "import matplotlib\n",
    "import matplotlib.pyplot as plt\n",
    "import numpy as np\n",
    "import IPython\n",
    "\n",
    "def display_prediction(text, predictions):\n",
    "    class ObjectToDisplay(object):\n",
    "        def _repr_html_(self):\n",
    "            cmap = matplotlib.cm.get_cmap('Reds')\n",
    "            html_chars = []\n",
    "            for c, p in zip(text, predictions):\n",
    "                if c == '\\n':\n",
    "                    html_chars.append('<br>')\n",
    "                else:\n",
    "                    r, g, b, a = cmap(p)\n",
    "                    r, g, b = int(256*r), int(256*g), int(256*b)\n",
    "                    html_chars.append('<span style=\"background-color:rgb(%s, %s, %s); color:black;\">%s</span>' % (r, g, b, c))\n",
    "            tot_html = \"\".join(html_chars)\n",
    "            return tot_html\n",
    "    return ObjectToDisplay()\n",
    "\n",
    "text = 'polska krowa \\n spalinowa'\n",
    "targets = np.random.random(len(text))\n",
    "display_prediction(text, targets)"
   ]
  },
  {
   "cell_type": "code",
   "execution_count": 6,
   "metadata": {
    "collapsed": false
   },
   "outputs": [],
   "source": [
    "from keras.models import Sequential\n",
    "from keras.layers import Dense, Dropout, Embedding, LSTM, Bidirectional, TimeDistributed\n",
    "sklearn_path = '../data/sklearn.py'\n",
    "austen_path = '../data/austen.txt'\n",
    "merged_path = '../data/merged.txt'\n",
    "labels_path = '../data/target.txt'\n",
    "features_path = '../data/X'\n",
    "target_path = '../data/y'\n",
    "chars = '\\n !\"#$%&\\'()*+,-./0123456789:;<=>?@[\\\\]^_`abcdefghijklmnopqrstuvwxyzABCDEFGHIJKLMNOPQRSTUVWXYZ{|}~'\n",
    "charset = set(chars)\n",
    "import joblib\n",
    "import os\n",
    "\n",
    "model_path = '../models/m1'\n",
    "if not os.path.exists(model_path):\n",
    "    os.makedirs(model_path)\n",
    "\n",
    "n_train = 4000000\n",
    "n_test = n_train\n",
    "n = n_train + n_test\n",
    "n_chars = len(charset)\n",
    "\n",
    "X_train = joblib.load(features_path)[:n_train].reshape((1, n_train, n_chars))\n",
    "y_train = joblib.load(target_path)[:n_train].reshape((1, n_train, 1))\n",
    "\n"
   ]
  },
  {
   "cell_type": "code",
   "execution_count": null,
   "metadata": {
    "collapsed": false
   },
   "outputs": [],
   "source": [
    "rnn_size = 64\n",
    "epochs = 10\n",
    "batch_size = 1\n",
    "\n",
    "model = Sequential()\n",
    "model.add(LSTM(rnn_size, return_sequences=True, input_shape=(n_train, n_chars)))\n",
    "model.add(LSTM(rnn_size, return_sequences=True, input_shape=(n_train, n_chars), go_backwards=True))\n",
    "model.add(Dropout(0.2))\n",
    "model.add(LSTM(rnn_size, return_sequences=True, input_shape=(n_train, n_chars)))\n",
    "model.add(LSTM(rnn_size, return_sequences=True, input_shape=(n_train, n_chars), go_backwards=True))\n",
    "model.add(Dropout(0.2))\n",
    "model.add(LSTM(rnn_size, return_sequences=True, input_shape=(n_train, n_chars)))\n",
    "model.add(LSTM(rnn_size, return_sequences=True, input_shape=(n_train, n_chars), go_backwards=True))\n",
    "model.add(Dropout(0.2))\n",
    "model.add(TimeDistributed(Dense(units=1, activation='sigmoid')))\n",
    "model.compile(optimizer='adam', loss='mse', metrics=['accuracy', 'binary_crossentropy'])\n",
    "\n",
    "model.summary()\n"
   ]
  },
  {
   "cell_type": "code",
   "execution_count": null,
   "metadata": {
    "collapsed": false
   },
   "outputs": [],
   "source": [
    "model.fit(X_train, y_train, epochs=10)"
   ]
  },
  {
   "cell_type": "code",
   "execution_count": null,
   "metadata": {
    "collapsed": true
   },
   "outputs": [],
   "source": [
    "preds = model.predict(X_train)"
   ]
  },
  {
   "cell_type": "code",
   "execution_count": null,
   "metadata": {
    "collapsed": false
   },
   "outputs": [],
   "source": [
    "preds.ravel()"
   ]
  },
  {
   "cell_type": "code",
   "execution_count": null,
   "metadata": {
    "collapsed": true
   },
   "outputs": [],
   "source": [
    "with open(merged_path, 'rb') as m:\n",
    "    text = m.read(n_train)"
   ]
  },
  {
   "cell_type": "code",
   "execution_count": null,
   "metadata": {
    "collapsed": false
   },
   "outputs": [],
   "source": [
    "len(text)"
   ]
  },
  {
   "cell_type": "code",
   "execution_count": null,
   "metadata": {
    "collapsed": false
   },
   "outputs": [],
   "source": [
    "display_prediction(text, (preds.ravel() -0.5) * 40 + 0.5)"
   ]
  },
  {
   "cell_type": "code",
   "execution_count": 4,
   "metadata": {
    "collapsed": true
   },
   "outputs": [],
   "source": [
    "from keras.models import load_model"
   ]
  },
  {
   "cell_type": "code",
   "execution_count": 5,
   "metadata": {
    "collapsed": true
   },
   "outputs": [],
   "source": [
    "model = load_model('../models/m1/epoch_19.h5py')"
   ]
  },
  {
   "cell_type": "code",
   "execution_count": 10,
   "metadata": {
    "collapsed": false
   },
   "outputs": [
    {
     "ename": "ValueError",
     "evalue": "Error when checking model input: expected lstm_1_input to have shape (None, 40, 96) but got array with shape (1, 4000000, 96)",
     "output_type": "error",
     "traceback": [
      "\u001b[0;31m---------------------------------------------------------------------------\u001b[0m",
      "\u001b[0;31mValueError\u001b[0m                                Traceback (most recent call last)",
      "\u001b[0;32m<ipython-input-10-56a37ecbf176>\u001b[0m in \u001b[0;36m<module>\u001b[0;34m()\u001b[0m\n\u001b[0;32m----> 1\u001b[0;31m \u001b[0mmodel\u001b[0m\u001b[0;34m.\u001b[0m\u001b[0mfit\u001b[0m\u001b[0;34m(\u001b[0m\u001b[0mX_train\u001b[0m\u001b[0;34m,\u001b[0m \u001b[0my_train\u001b[0m\u001b[0;34m,\u001b[0m \u001b[0mepochs\u001b[0m\u001b[0;34m=\u001b[0m\u001b[0;36m1\u001b[0m\u001b[0;34m)\u001b[0m\u001b[0;34m\u001b[0m\u001b[0m\n\u001b[0m",
      "\u001b[0;32m/usr/local/lib/python2.7/dist-packages/keras/models.pyc\u001b[0m in \u001b[0;36mfit\u001b[0;34m(self, x, y, batch_size, epochs, verbose, callbacks, validation_split, validation_data, shuffle, class_weight, sample_weight, initial_epoch, **kwargs)\u001b[0m\n\u001b[1;32m    843\u001b[0m                               \u001b[0mclass_weight\u001b[0m\u001b[0;34m=\u001b[0m\u001b[0mclass_weight\u001b[0m\u001b[0;34m,\u001b[0m\u001b[0;34m\u001b[0m\u001b[0m\n\u001b[1;32m    844\u001b[0m                               \u001b[0msample_weight\u001b[0m\u001b[0;34m=\u001b[0m\u001b[0msample_weight\u001b[0m\u001b[0;34m,\u001b[0m\u001b[0;34m\u001b[0m\u001b[0m\n\u001b[0;32m--> 845\u001b[0;31m                               initial_epoch=initial_epoch)\n\u001b[0m\u001b[1;32m    846\u001b[0m \u001b[0;34m\u001b[0m\u001b[0m\n\u001b[1;32m    847\u001b[0m     def evaluate(self, x, y, batch_size=32, verbose=1,\n",
      "\u001b[0;32m/usr/local/lib/python2.7/dist-packages/keras/engine/training.pyc\u001b[0m in \u001b[0;36mfit\u001b[0;34m(self, x, y, batch_size, epochs, verbose, callbacks, validation_split, validation_data, shuffle, class_weight, sample_weight, initial_epoch, **kwargs)\u001b[0m\n\u001b[1;32m   1403\u001b[0m             \u001b[0mclass_weight\u001b[0m\u001b[0;34m=\u001b[0m\u001b[0mclass_weight\u001b[0m\u001b[0;34m,\u001b[0m\u001b[0;34m\u001b[0m\u001b[0m\n\u001b[1;32m   1404\u001b[0m             \u001b[0mcheck_batch_axis\u001b[0m\u001b[0;34m=\u001b[0m\u001b[0mFalse\u001b[0m\u001b[0;34m,\u001b[0m\u001b[0;34m\u001b[0m\u001b[0m\n\u001b[0;32m-> 1405\u001b[0;31m             batch_size=batch_size)\n\u001b[0m\u001b[1;32m   1406\u001b[0m         \u001b[0;31m# prepare validation data\u001b[0m\u001b[0;34m\u001b[0m\u001b[0;34m\u001b[0m\u001b[0m\n\u001b[1;32m   1407\u001b[0m         \u001b[0;32mif\u001b[0m \u001b[0mvalidation_data\u001b[0m\u001b[0;34m:\u001b[0m\u001b[0;34m\u001b[0m\u001b[0m\n",
      "\u001b[0;32m/usr/local/lib/python2.7/dist-packages/keras/engine/training.pyc\u001b[0m in \u001b[0;36m_standardize_user_data\u001b[0;34m(self, x, y, sample_weight, class_weight, check_batch_axis, batch_size)\u001b[0m\n\u001b[1;32m   1293\u001b[0m                                     \u001b[0mself\u001b[0m\u001b[0;34m.\u001b[0m\u001b[0m_feed_input_shapes\u001b[0m\u001b[0;34m,\u001b[0m\u001b[0;34m\u001b[0m\u001b[0m\n\u001b[1;32m   1294\u001b[0m                                     \u001b[0mcheck_batch_axis\u001b[0m\u001b[0;34m=\u001b[0m\u001b[0mFalse\u001b[0m\u001b[0;34m,\u001b[0m\u001b[0;34m\u001b[0m\u001b[0m\n\u001b[0;32m-> 1295\u001b[0;31m                                     exception_prefix='model input')\n\u001b[0m\u001b[1;32m   1296\u001b[0m         y = _standardize_input_data(y, self._feed_output_names,\n\u001b[1;32m   1297\u001b[0m                                     \u001b[0moutput_shapes\u001b[0m\u001b[0;34m,\u001b[0m\u001b[0;34m\u001b[0m\u001b[0m\n",
      "\u001b[0;32m/usr/local/lib/python2.7/dist-packages/keras/engine/training.pyc\u001b[0m in \u001b[0;36m_standardize_input_data\u001b[0;34m(data, names, shapes, check_batch_axis, exception_prefix)\u001b[0m\n\u001b[1;32m    131\u001b[0m                             \u001b[0;34m' to have shape '\u001b[0m \u001b[0;34m+\u001b[0m \u001b[0mstr\u001b[0m\u001b[0;34m(\u001b[0m\u001b[0mshapes\u001b[0m\u001b[0;34m[\u001b[0m\u001b[0mi\u001b[0m\u001b[0;34m]\u001b[0m\u001b[0;34m)\u001b[0m \u001b[0;34m+\u001b[0m\u001b[0;34m\u001b[0m\u001b[0m\n\u001b[1;32m    132\u001b[0m                             \u001b[0;34m' but got array with shape '\u001b[0m \u001b[0;34m+\u001b[0m\u001b[0;34m\u001b[0m\u001b[0m\n\u001b[0;32m--> 133\u001b[0;31m                             str(array.shape))\n\u001b[0m\u001b[1;32m    134\u001b[0m     \u001b[0;32mreturn\u001b[0m \u001b[0marrays\u001b[0m\u001b[0;34m\u001b[0m\u001b[0m\n\u001b[1;32m    135\u001b[0m \u001b[0;34m\u001b[0m\u001b[0m\n",
      "\u001b[0;31mValueError\u001b[0m: Error when checking model input: expected lstm_1_input to have shape (None, 40, 96) but got array with shape (1, 4000000, 96)"
     ]
    }
   ],
   "source": [
    "model.fit(X_train, y_train, epochs=1)"
   ]
  },
  {
   "cell_type": "code",
   "execution_count": null,
   "metadata": {
    "collapsed": true
   },
   "outputs": [],
   "source": []
  }
 ],
 "metadata": {
  "kernelspec": {
   "display_name": "Python 2",
   "language": "python",
   "name": "python2"
  },
  "language_info": {
   "codemirror_mode": {
    "name": "ipython",
    "version": 2
   },
   "file_extension": ".py",
   "mimetype": "text/x-python",
   "name": "python",
   "nbconvert_exporter": "python",
   "pygments_lexer": "ipython2",
   "version": "2.7.12"
  }
 },
 "nbformat": 4,
 "nbformat_minor": 1
}
