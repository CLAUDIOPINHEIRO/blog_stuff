{
 "cells": [
  {
   "cell_type": "code",
   "execution_count": 37,
   "metadata": {
    "collapsed": false
   },
   "outputs": [
    {
     "data": {
      "text/html": [
       "<span style=\"background-color:rgb(255, 230, 218); color:black;\">p</span><span style=\"background-color:rgb(252, 148, 116); color:black;\">o</span><span style=\"background-color:rgb(253, 195, 172); color:black;\">l</span><span style=\"background-color:rgb(252, 127, 95); color:black;\">s</span><span style=\"background-color:rgb(252, 182, 155); color:black;\">k</span><span style=\"background-color:rgb(187, 20, 25); color:black;\">a</span><span style=\"background-color:rgb(240, 59, 44); color:black;\"> </span><span style=\"background-color:rgb(255, 240, 232); color:black;\">k</span><span style=\"background-color:rgb(252, 117, 84); color:black;\">r</span><span style=\"background-color:rgb(171, 16, 22); color:black;\">o</span><span style=\"background-color:rgb(254, 224, 210); color:black;\">w</span><span style=\"background-color:rgb(243, 73, 53); color:black;\">a</span><span style=\"background-color:rgb(176, 17, 23); color:black;\"> </span><span style=\"background-color:rgb(240, 59, 44); color:black;\">s</span><span style=\"background-color:rgb(248, 92, 65); color:black;\">p</span><span style=\"background-color:rgb(130, 6, 16); color:black;\">a</span><span style=\"background-color:rgb(168, 15, 21); color:black;\">l</span><span style=\"background-color:rgb(103, 0, 13); color:black;\">i</span><span style=\"background-color:rgb(255, 234, 224); color:black;\">n</span><span style=\"background-color:rgb(152, 11, 19); color:black;\">o</span><span style=\"background-color:rgb(255, 232, 222); color:black;\">w</span><span style=\"background-color:rgb(255, 241, 235); color:black;\">a</span>"
      ],
      "text/plain": [
       "<__main__.ObjectToDisplay at 0x7fd2925382d0>"
      ]
     },
     "execution_count": 37,
     "metadata": {},
     "output_type": "execute_result"
    }
   ],
   "source": [
    "import numpy as np\n",
    "import IPython\n",
    "\n",
    "def display_prediction(text, predictions):\n",
    "    class ObjectToDisplay(object):\n",
    "        def _repr_html_(self):\n",
    "            cmap = matplotlib.cm.get_cmap('Reds')\n",
    "            html_chars = []\n",
    "            for c, p in zip(text, predictions):\n",
    "                r, g, b, a = cmap(p)\n",
    "                r, g, b = int(256*r), int(256*g), int(256*b)\n",
    "                html_chars.append('<span style=\"background-color:rgb(%s, %s, %s); color:black;\">%s</span>' % (r, g, b, c))\n",
    "            tot_html = \"\".join(html_chars)\n",
    "            return tot_html\n",
    "    return ObjectToDisplay()\n",
    "\n",
    "text = 'polska krowa spalinowa'\n",
    "targets = np.random.random(len(text))\n",
    "display_prediction(text, targets)"
   ]
  },
  {
   "cell_type": "code",
   "execution_count": 8,
   "metadata": {
    "collapsed": false
   },
   "outputs": [
    {
     "data": {
      "text/html": [
       "<p style=\"background-color:blue;\">I am blue</p>"
      ],
      "text/plain": [
       "<__main__.Krowa at 0x7fd2cc61df10>"
      ]
     },
     "execution_count": 8,
     "metadata": {},
     "output_type": "execute_result"
    }
   ],
   "source": [
    "Krowa()"
   ]
  },
  {
   "cell_type": "code",
   "execution_count": 12,
   "metadata": {
    "collapsed": true
   },
   "outputs": [],
   "source": [
    "import matplotlib.pyplot as plt"
   ]
  },
  {
   "cell_type": "code",
   "execution_count": 14,
   "metadata": {
    "collapsed": false
   },
   "outputs": [
    {
     "data": {
      "text/plain": [
       "[u'Accent',\n",
       " u'Accent_r',\n",
       " u'Blues',\n",
       " u'Blues_r',\n",
       " u'BrBG',\n",
       " u'BrBG_r',\n",
       " u'BuGn',\n",
       " u'BuGn_r',\n",
       " u'BuPu',\n",
       " u'BuPu_r',\n",
       " u'CMRmap',\n",
       " u'CMRmap_r',\n",
       " u'Dark2',\n",
       " u'Dark2_r',\n",
       " u'GnBu',\n",
       " u'GnBu_r',\n",
       " u'Greens',\n",
       " u'Greens_r',\n",
       " u'Greys',\n",
       " u'Greys_r',\n",
       " u'OrRd',\n",
       " u'OrRd_r',\n",
       " u'Oranges',\n",
       " u'Oranges_r',\n",
       " u'PRGn',\n",
       " u'PRGn_r',\n",
       " u'Paired',\n",
       " u'Paired_r',\n",
       " u'Pastel1',\n",
       " u'Pastel1_r',\n",
       " u'Pastel2',\n",
       " u'Pastel2_r',\n",
       " u'PiYG',\n",
       " u'PiYG_r',\n",
       " u'PuBu',\n",
       " u'PuBuGn',\n",
       " u'PuBuGn_r',\n",
       " u'PuBu_r',\n",
       " u'PuOr',\n",
       " u'PuOr_r',\n",
       " u'PuRd',\n",
       " u'PuRd_r',\n",
       " u'Purples',\n",
       " u'Purples_r',\n",
       " u'RdBu',\n",
       " u'RdBu_r',\n",
       " u'RdGy',\n",
       " u'RdGy_r',\n",
       " u'RdPu',\n",
       " u'RdPu_r',\n",
       " u'RdYlBu',\n",
       " u'RdYlBu_r',\n",
       " u'RdYlGn',\n",
       " u'RdYlGn_r',\n",
       " u'Reds',\n",
       " u'Reds_r',\n",
       " u'Set1',\n",
       " u'Set1_r',\n",
       " u'Set2',\n",
       " u'Set2_r',\n",
       " u'Set3',\n",
       " u'Set3_r',\n",
       " u'Spectral',\n",
       " u'Spectral_r',\n",
       " u'Wistia',\n",
       " u'Wistia_r',\n",
       " u'YlGn',\n",
       " u'YlGnBu',\n",
       " u'YlGnBu_r',\n",
       " u'YlGn_r',\n",
       " u'YlOrBr',\n",
       " u'YlOrBr_r',\n",
       " u'YlOrRd',\n",
       " u'YlOrRd_r',\n",
       " u'afmhot',\n",
       " u'afmhot_r',\n",
       " u'autumn',\n",
       " u'autumn_r',\n",
       " u'binary',\n",
       " u'binary_r',\n",
       " u'bone',\n",
       " u'bone_r',\n",
       " u'brg',\n",
       " u'brg_r',\n",
       " u'bwr',\n",
       " u'bwr_r',\n",
       " u'cool',\n",
       " u'cool_r',\n",
       " u'coolwarm',\n",
       " u'coolwarm_r',\n",
       " u'copper',\n",
       " u'copper_r',\n",
       " u'cubehelix',\n",
       " u'cubehelix_r',\n",
       " u'flag',\n",
       " u'flag_r',\n",
       " u'gist_earth',\n",
       " u'gist_earth_r',\n",
       " u'gist_gray',\n",
       " u'gist_gray_r',\n",
       " u'gist_heat',\n",
       " u'gist_heat_r',\n",
       " u'gist_ncar',\n",
       " u'gist_ncar_r',\n",
       " u'gist_rainbow',\n",
       " u'gist_rainbow_r',\n",
       " u'gist_stern',\n",
       " u'gist_stern_r',\n",
       " u'gist_yarg',\n",
       " u'gist_yarg_r',\n",
       " u'gnuplot',\n",
       " u'gnuplot2',\n",
       " u'gnuplot2_r',\n",
       " u'gnuplot_r',\n",
       " u'gray',\n",
       " u'gray_r',\n",
       " u'hot',\n",
       " u'hot_r',\n",
       " u'hsv',\n",
       " u'hsv_r',\n",
       " 'inferno',\n",
       " 'inferno_r',\n",
       " u'jet',\n",
       " u'jet_r',\n",
       " 'magma',\n",
       " 'magma_r',\n",
       " u'nipy_spectral',\n",
       " u'nipy_spectral_r',\n",
       " u'ocean',\n",
       " u'ocean_r',\n",
       " u'pink',\n",
       " u'pink_r',\n",
       " 'plasma',\n",
       " 'plasma_r',\n",
       " u'prism',\n",
       " u'prism_r',\n",
       " u'rainbow',\n",
       " u'rainbow_r',\n",
       " u'seismic',\n",
       " u'seismic_r',\n",
       " u'spectral',\n",
       " u'spectral_r',\n",
       " u'spring',\n",
       " u'spring_r',\n",
       " u'summer',\n",
       " u'summer_r',\n",
       " u'terrain',\n",
       " u'terrain_r',\n",
       " 'viridis',\n",
       " 'viridis_r',\n",
       " u'winter',\n",
       " u'winter_r']"
      ]
     },
     "execution_count": 14,
     "metadata": {},
     "output_type": "execute_result"
    }
   ],
   "source": [
    "plt.colormaps()"
   ]
  },
  {
   "cell_type": "code",
   "execution_count": 16,
   "metadata": {
    "collapsed": false
   },
   "outputs": [
    {
     "name": "stdout",
     "output_type": "stream",
     "text": [
      "(0.98357554884517895, 0.4127950837799147, 0.28835064675293715, 1.0)\n"
     ]
    }
   ],
   "source": [
    "import matplotlib\n",
    "\n",
    "cmap = matplotlib.cm.get_cmap('Reds')\n",
    "\n",
    "rgba = cmap(0.5)\n",
    "print(rgba) # (0.99807766255210428, 0.99923106502084169, 0.74602077638401709, 1.0)"
   ]
  },
  {
   "cell_type": "code",
   "execution_count": 17,
   "metadata": {
    "collapsed": true
   },
   "outputs": [],
   "source": [
    "import numpy as np\n",
    "\n",
    "\n",
    "text = 'polska krowa spalinowa'\n",
    "targets = np.random.random(len(text))"
   ]
  },
  {
   "cell_type": "code",
   "execution_count": 18,
   "metadata": {
    "collapsed": false
   },
   "outputs": [
    {
     "data": {
      "text/plain": [
       "array([ 0.01146287,  0.35031762,  0.78930397,  0.11135064,  0.75001294,\n",
       "        0.37683674,  0.77994133,  0.4794535 ,  0.29837375,  0.67662325,\n",
       "        0.66567406,  0.92087319,  0.95182372,  0.06254627,  0.29455207,\n",
       "        0.63915842,  0.66359052,  0.92975602,  0.33170761,  0.65417118,\n",
       "        0.65564729,  0.27230863])"
      ]
     },
     "execution_count": 18,
     "metadata": {},
     "output_type": "execute_result"
    }
   ],
   "source": [
    "targets"
   ]
  },
  {
   "cell_type": "code",
   "execution_count": null,
   "metadata": {
    "collapsed": true
   },
   "outputs": [],
   "source": []
  }
 ],
 "metadata": {
  "kernelspec": {
   "display_name": "Python 2",
   "language": "python",
   "name": "python2"
  },
  "language_info": {
   "codemirror_mode": {
    "name": "ipython",
    "version": 2
   },
   "file_extension": ".py",
   "mimetype": "text/x-python",
   "name": "python",
   "nbconvert_exporter": "python",
   "pygments_lexer": "ipython2",
   "version": "2.7.12"
  }
 },
 "nbformat": 4,
 "nbformat_minor": 1
}
