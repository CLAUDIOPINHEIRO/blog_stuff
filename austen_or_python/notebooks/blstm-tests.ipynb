{
 "cells": [
  {
   "cell_type": "code",
   "execution_count": null,
   "metadata": {
    "collapsed": false
   },
   "outputs": [],
   "source": [
    "import matplotlib\n",
    "import matplotlib.pyplot as plt\n",
    "import numpy as np\n",
    "import IPython\n",
    "\n",
    "def display_prediction(text, predictions):\n",
    "    class ObjectToDisplay(object):\n",
    "        def _repr_html_(self):\n",
    "            cmap = matplotlib.cm.get_cmap('Reds')\n",
    "            html_chars = []\n",
    "            for c, p in zip(text, predictions):\n",
    "                if c == '\\n':\n",
    "                    html_chars.append('<br>')\n",
    "                else:\n",
    "                    r, g, b, a = cmap(p)\n",
    "                    r, g, b = int(256*r), int(256*g), int(256*b)\n",
    "                    html_chars.append('<span style=\"background-color:rgb(%s, %s, %s); color:black;\">%s</span>' % (r, g, b, c))\n",
    "            tot_html = \"\".join(html_chars)\n",
    "            return tot_html\n",
    "    return ObjectToDisplay()\n",
    "\n",
    "text = 'polska krowa \\n spalinowa'\n",
    "targets = np.random.random(len(text))\n",
    "display_prediction(text, targets)"
   ]
  },
  {
   "cell_type": "code",
   "execution_count": null,
   "metadata": {
    "collapsed": false
   },
   "outputs": [],
   "source": [
    "import numpy as np\n",
    "\n",
    "from keras.preprocessing import sequence\n",
    "from keras.models import Sequential\n",
    "from keras.layers import Dense, Dropout, Embedding, LSTM, Bidirectional, TimeDistributed\n",
    "from keras.datasets import imdb\n",
    "# from keras.models import Input"
   ]
  },
  {
   "cell_type": "code",
   "execution_count": null,
   "metadata": {
    "collapsed": true
   },
   "outputs": [],
   "source": [
    "import tensorflow as tf"
   ]
  },
  {
   "cell_type": "code",
   "execution_count": null,
   "metadata": {
    "collapsed": true
   },
   "outputs": [],
   "source": [
    "sess = tf.Session(config=tf.ConfigProto(log_device_placement=True))"
   ]
  },
  {
   "cell_type": "code",
   "execution_count": null,
   "metadata": {
    "collapsed": true
   },
   "outputs": [],
   "source": [
    "def gen_text(n):\n",
    "    chars = ['a']\n",
    "    labels = [0]\n",
    "    transitions = {\n",
    "        'a': {\n",
    "            'a': 0.10,\n",
    "            'b': 0.37,\n",
    "            'c': 0.53\n",
    "        },\n",
    "        'b': {\n",
    "            'a': 0.2,\n",
    "            'b': 0.6,\n",
    "            'c': 0.2\n",
    "        },\n",
    "        'c': {\n",
    "            'a': 0.1,\n",
    "            'b': 0.2,\n",
    "            'c': 0.7\n",
    "        }\n",
    "    }\n",
    "    letters = ['a','b','c']\n",
    "\n",
    "    for i in range(n-1):\n",
    "        curr = chars[-1]\n",
    "        tr = transitions[curr]\n",
    "        nex = np.random.choice(letters, p=np.array([tr[c] for c in letters]))\n",
    "        chars.append(nex)\n",
    "        label = 1 if (chars[-2:] == ['a','c'] or chars[-2:] == ['b','b']) else 0\n",
    "        labels.append(label)\n",
    "    return chars, labels"
   ]
  },
  {
   "cell_type": "code",
   "execution_count": null,
   "metadata": {
    "collapsed": true
   },
   "outputs": [],
   "source": [
    "chars = '\\n !\"#$%&\\'()*+,-./0123456789:;<=>?@[\\\\]^_`abcdefghijklmnopqrstuvwxyz{|}~U'\n",
    "chars = 'abc'\n",
    "charset = set(chars)\n",
    "char_indices = dict((c, i) for i, c in enumerate(chars))\n",
    "indices_char = dict((i, c) for i, c in enumerate(chars))"
   ]
  },
  {
   "cell_type": "code",
   "execution_count": null,
   "metadata": {
    "collapsed": true
   },
   "outputs": [],
   "source": [
    "def encode_text(text):\n",
    "    zeros = [[0] * len(chars) for _ in range(len(text))]\n",
    "    for i, c in enumerate(text):\n",
    "        zeros[i][char_indices[c]] = 1\n",
    "    return zeros"
   ]
  },
  {
   "cell_type": "code",
   "execution_count": null,
   "metadata": {
    "collapsed": true
   },
   "outputs": [],
   "source": [
    "X = []\n",
    "y = []\n",
    "n = 100\n",
    "maxlen=5\n",
    "for i in range(n):\n",
    "    text, labels = gen_text(maxlen)\n",
    "    X.append(encode_text(text))\n",
    "    y.append(labels)\n",
    "    \n",
    "X = np.array(X)\n",
    "y = np.array(y).reshape((n, maxlen, 1))"
   ]
  },
  {
   "cell_type": "code",
   "execution_count": null,
   "metadata": {
    "collapsed": true
   },
   "outputs": [],
   "source": [
    "n_train = 80\n",
    "X_train = X[:n_train, :, :]\n",
    "y_train = y[:n_train, :, :]\n",
    "X_test = X[n_train:, :, :]\n",
    "y_test = y[n_train:, :, :]"
   ]
  },
  {
   "cell_type": "code",
   "execution_count": null,
   "metadata": {
    "collapsed": false
   },
   "outputs": [],
   "source": [
    "rnn_size = 5\n",
    "\n",
    "batch_size = 1\n",
    "n_chars = len(chars)\n",
    "epochs = 16\n",
    "\n",
    "model = Sequential()\n",
    "model.add(LSTM(rnn_size, return_sequences=True, batch_input_shape=(batch_size, maxlen, n_chars)))\n",
    "# model.add(LSTM(rnn_size, return_sequences=True, batch_input_shape=(batch_size, maxlen, n_chars)))\n",
    "# model.add(Dropout(0.2))\n",
    "# model.add(Dense(units=2, activation='sigmoid'))\n",
    "model.add(TimeDistributed(Dense(units=1, activation='sigmoid')))\n",
    "model.compile(optimizer='adam', loss='mse', metrics=['accuracy', 'binary_crossentropy'])\n",
    "\n",
    "model.summary()\n",
    "model.fit(X_train, y_train, epochs=epochs, batch_size=batch_size)\n",
    "# model.evaluate(X_test, y_test, batch_size=batch_size)"
   ]
  },
  {
   "cell_type": "code",
   "execution_count": null,
   "metadata": {
    "collapsed": false
   },
   "outputs": [],
   "source": [
    "preds = model.predict(X_train, batch_size=batch_size).ravel()"
   ]
  },
  {
   "cell_type": "code",
   "execution_count": null,
   "metadata": {
    "collapsed": false
   },
   "outputs": [],
   "source": [
    "len(preds)"
   ]
  },
  {
   "cell_type": "code",
   "execution_count": null,
   "metadata": {
    "collapsed": false
   },
   "outputs": [],
   "source": [
    "len(X_train)"
   ]
  },
  {
   "cell_type": "code",
   "execution_count": null,
   "metadata": {
    "collapsed": false
   },
   "outputs": [],
   "source": [
    "import theano"
   ]
  },
  {
   "cell_type": "code",
   "execution_count": null,
   "metadata": {
    "collapsed": true
   },
   "outputs": [],
   "source": []
  }
 ],
 "metadata": {
  "kernelspec": {
   "display_name": "Python 2",
   "language": "python",
   "name": "python2"
  },
  "language_info": {
   "codemirror_mode": {
    "name": "ipython",
    "version": 2
   },
   "file_extension": ".py",
   "mimetype": "text/x-python",
   "name": "python",
   "nbconvert_exporter": "python",
   "pygments_lexer": "ipython2",
   "version": "2.7.12"
  }
 },
 "nbformat": 4,
 "nbformat_minor": 1
}
